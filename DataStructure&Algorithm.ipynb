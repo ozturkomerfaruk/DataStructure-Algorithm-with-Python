{
  "nbformat": 4,
  "nbformat_minor": 0,
  "metadata": {
    "colab": {
      "name": "DataStructure&Algorithm.ipynb",
      "provenance": []
    },
    "kernelspec": {
      "name": "python3",
      "display_name": "Python 3"
    },
    "language_info": {
      "name": "python"
    },
    "gpuClass": "standard"
  },
  "cells": [
    {
      "cell_type": "markdown",
      "source": [
        "# Phython Giriş"
      ],
      "metadata": {
        "id": "Wa60QMqZTmnn"
      }
    },
    {
      "cell_type": "code",
      "source": [
        "x = 5\n",
        "type(x)"
      ],
      "metadata": {
        "id": "JZEK2UsFUrdK"
      },
      "execution_count": 5,
      "outputs": []
    },
    {
      "cell_type": "code",
      "source": [
        "str = \"Ömer Faruk Öztürk\"\n",
        "print(str*2)\n",
        "print(len(str))\n",
        "print(str[-2])\n",
        "str[3:] #starting index\n",
        "str[:3] #stopping index\n",
        "str[3:10] #birlikte\n",
        "str[::3] #stepping size\n",
        "str[::-1] #ters"
      ],
      "metadata": {
        "colab": {
          "base_uri": "https://localhost:8080/",
          "height": 88
        },
        "id": "-PCmuc2XTq_l",
        "outputId": "227eccdc-0407-49d1-ef85-2b6827446bec"
      },
      "execution_count": 18,
      "outputs": [
        {
          "output_type": "stream",
          "name": "stdout",
          "text": [
            "Ömer Faruk ÖztürkÖmer Faruk Öztürk\n",
            "17\n",
            "r\n"
          ]
        },
        {
          "output_type": "execute_result",
          "data": {
            "text/plain": [
              "'krützÖ kuraF remÖ'"
            ],
            "application/vnd.google.colaboratory.intrinsic+json": {
              "type": "string"
            }
          },
          "metadata": {},
          "execution_count": 18
        }
      ]
    },
    {
      "cell_type": "code",
      "source": [
        "mylist = [1,2, 3.3, 4.4, \"5\", False]\n",
        "nestedList = [1,2, [3,4], [5,6,[7,8,9,0], 4], 5,3]"
      ],
      "metadata": {
        "id": "Cnt_CnNMYC0A"
      },
      "execution_count": 3,
      "outputs": []
    },
    {
      "cell_type": "code",
      "source": [
        "myDict = {'item': 'keys', \"item2\": \"key2\", \"item3\": \"key3\", \"item4\": \"key4\", \"item5\": \"key5\"}\n",
        "myDict.get('omer', 500) #yoksa 500 döndür."
      ],
      "metadata": {
        "colab": {
          "base_uri": "https://localhost:8080/"
        },
        "id": "g4BniMyGZhtX",
        "outputId": "3593cb56-b30a-4c6f-f3f6-0bce3ad766f0"
      },
      "execution_count": 11,
      "outputs": [
        {
          "output_type": "execute_result",
          "data": {
            "text/plain": [
              "500"
            ]
          },
          "metadata": {},
          "execution_count": 11
        }
      ]
    },
    {
      "cell_type": "code",
      "source": [
        "mySet = {1,1,1,1,1,2}\n",
        "print(mySet)\n",
        "myTuple = (1,2,3,4,1,2,3,5)\n",
        "print(myTuple)\n",
        "print(myTuple.count(5))\n",
        "#Tuple Unpacking\n",
        "(x,y) = (4,5)\n",
        "print(x)\n",
        "print(y)\n",
        "(x,y) = (y,x)\n",
        "print(x)\n",
        "print(y)"
      ],
      "metadata": {
        "colab": {
          "base_uri": "https://localhost:8080/"
        },
        "id": "5hC_pfMKaBv0",
        "outputId": "0c7ec354-475f-4d8e-d806-0ab9d7cbcd38"
      },
      "execution_count": 21,
      "outputs": [
        {
          "output_type": "stream",
          "name": "stdout",
          "text": [
            "{1, 2}\n",
            "(1, 2, 3, 4, 1, 2, 3, 5)\n",
            "1\n",
            "4\n",
            "5\n",
            "5\n",
            "4\n"
          ]
        }
      ]
    },
    {
      "cell_type": "code",
      "source": [
        "userage = input(\"Enter age: \")\n",
        "print(type(userage))\n",
        "print(int(userage) + 5)"
      ],
      "metadata": {
        "colab": {
          "base_uri": "https://localhost:8080/"
        },
        "id": "jZVCDtHOcqyQ",
        "outputId": "6d672de5-8b15-4e6a-c5af-06414808ea99"
      },
      "execution_count": 28,
      "outputs": [
        {
          "output_type": "stream",
          "name": "stdout",
          "text": [
            "Enter age: 35\n",
            "<class 'str'>\n",
            "40\n"
          ]
        }
      ]
    },
    {
      "cell_type": "code",
      "source": [
        "#Error Handling\n",
        "try:\n",
        "  int(\"Ömer\")\n",
        "except:\n",
        "  print(\"int'e dönüştürülemez.\")"
      ],
      "metadata": {
        "colab": {
          "base_uri": "https://localhost:8080/"
        },
        "id": "qL9GXOerd9sp",
        "outputId": "22d59429-1810-4c67-f677-65e72dc7e81f"
      },
      "execution_count": 29,
      "outputs": [
        {
          "output_type": "stream",
          "name": "stdout",
          "text": [
            "int'e dönüştürülemez.\n"
          ]
        }
      ]
    },
    {
      "cell_type": "code",
      "source": [
        "print(4>3)\n",
        "print(5<3)\n",
        "\n",
        "x = 40\n",
        "\n",
        "if x > 20 and x <= 30:\n",
        "  print(x, \"=> 20-30\")\n",
        "elif x > 30 and x <= 40:\n",
        "  print(x, \"=> 30-40\")\n",
        "else:\n",
        "  print(f\"{x} => dışında\") #formatted String"
      ],
      "metadata": {
        "colab": {
          "base_uri": "https://localhost:8080/"
        },
        "id": "Ni2U_zY0e2zq",
        "outputId": "b2c914df-3f03-477a-f43f-c823f6105ca5"
      },
      "execution_count": 40,
      "outputs": [
        {
          "output_type": "stream",
          "name": "stdout",
          "text": [
            "True\n",
            "False\n",
            "40 => 30-40\n"
          ]
        }
      ]
    },
    {
      "cell_type": "code",
      "source": [
        "myList = [1,2,3,4,5,6,7]\n",
        "for number in myList:\n",
        "  print(number / 2 * 3)\n",
        "print(\"Loop Ended\")"
      ],
      "metadata": {
        "colab": {
          "base_uri": "https://localhost:8080/"
        },
        "id": "jgwYbB8GgNP-",
        "outputId": "87f3f6c3-c569-4d90-d5ae-171bc8d38bda"
      },
      "execution_count": 44,
      "outputs": [
        {
          "output_type": "stream",
          "name": "stdout",
          "text": [
            "1.5\n",
            "3.0\n",
            "4.5\n",
            "6.0\n",
            "7.5\n",
            "9.0\n",
            "10.5\n",
            "Loop Ended\n"
          ]
        }
      ]
    },
    {
      "cell_type": "code",
      "source": [
        "40 in myList"
      ],
      "metadata": {
        "colab": {
          "base_uri": "https://localhost:8080/"
        },
        "id": "ij7y1HcSgYmf",
        "outputId": "68601bbb-c10f-49a2-e685-d6adede9b7de"
      },
      "execution_count": 42,
      "outputs": [
        {
          "output_type": "execute_result",
          "data": {
            "text/plain": [
              "False"
            ]
          },
          "metadata": {},
          "execution_count": 42
        }
      ]
    },
    {
      "cell_type": "code",
      "source": [
        "\"a\" in \"metallica\""
      ],
      "metadata": {
        "colab": {
          "base_uri": "https://localhost:8080/"
        },
        "id": "qXxFQmzYga6z",
        "outputId": "de7178a0-e513-4e8c-bc0b-95cddc27abf5"
      },
      "execution_count": 43,
      "outputs": [
        {
          "output_type": "execute_result",
          "data": {
            "text/plain": [
              "True"
            ]
          },
          "metadata": {},
          "execution_count": 43
        }
      ]
    },
    {
      "cell_type": "code",
      "source": [
        "i = 0\n",
        "while i < 10:\n",
        "  print(i)\n",
        "  i += 1"
      ],
      "metadata": {
        "colab": {
          "base_uri": "https://localhost:8080/"
        },
        "id": "mDC14tSLgcjR",
        "outputId": "1975f33c-c16f-434c-ce86-bfc5cab87102"
      },
      "execution_count": 45,
      "outputs": [
        {
          "output_type": "stream",
          "name": "stdout",
          "text": [
            "0\n",
            "1\n",
            "2\n",
            "3\n",
            "4\n",
            "5\n",
            "6\n",
            "7\n",
            "8\n",
            "9\n"
          ]
        }
      ]
    },
    {
      "cell_type": "code",
      "source": [
        ""
      ],
      "metadata": {
        "id": "ApLpjHZNgqiP"
      },
      "execution_count": null,
      "outputs": []
    }
  ]
}