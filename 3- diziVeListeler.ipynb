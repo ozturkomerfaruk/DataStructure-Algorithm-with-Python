{
  "nbformat": 4,
  "nbformat_minor": 0,
  "metadata": {
    "colab": {
      "name": "diziVeListeler.ipynb",
      "provenance": []
    },
    "kernelspec": {
      "name": "python3",
      "display_name": "Python 3"
    },
    "language_info": {
      "name": "python"
    }
  },
  "cells": [
    {
      "cell_type": "code",
      "execution_count": 1,
      "metadata": {
        "id": "rcikwK7CjvP1"
      },
      "outputs": [],
      "source": [
        "result = [0] * 8"
      ]
    },
    {
      "cell_type": "code",
      "source": [
        "result"
      ],
      "metadata": {
        "colab": {
          "base_uri": "https://localhost:8080/"
        },
        "id": "a3fQSqWZmXXc",
        "outputId": "a51af49b-dd49-4c98-e3f3-2e466e5d201f"
      },
      "execution_count": 2,
      "outputs": [
        {
          "output_type": "execute_result",
          "data": {
            "text/plain": [
              "[0, 0, 0, 0, 0, 0, 0, 0]"
            ]
          },
          "metadata": {},
          "execution_count": 2
        }
      ]
    },
    {
      "cell_type": "code",
      "source": [
        "type(result)"
      ],
      "metadata": {
        "colab": {
          "base_uri": "https://localhost:8080/"
        },
        "id": "GmxYq9dNmY25",
        "outputId": "f7aca627-9537-4542-e134-e49138e37de9"
      },
      "execution_count": 3,
      "outputs": [
        {
          "output_type": "execute_result",
          "data": {
            "text/plain": [
              "list"
            ]
          },
          "metadata": {},
          "execution_count": 3
        }
      ]
    },
    {
      "cell_type": "code",
      "source": [
        "result[3] = 2"
      ],
      "metadata": {
        "id": "OGr0_0rvmaQ6"
      },
      "execution_count": 4,
      "outputs": []
    },
    {
      "cell_type": "code",
      "source": [
        "result"
      ],
      "metadata": {
        "colab": {
          "base_uri": "https://localhost:8080/"
        },
        "id": "LUw16h-Hmcee",
        "outputId": "c9af195a-1421-45ed-81fe-8f7041a1361e"
      },
      "execution_count": 5,
      "outputs": [
        {
          "output_type": "execute_result",
          "data": {
            "text/plain": [
              "[0, 0, 0, 2, 0, 0, 0, 0]"
            ]
          },
          "metadata": {},
          "execution_count": 5
        }
      ]
    },
    {
      "cell_type": "code",
      "source": [
        "import sys #gerçekten içeride kaç byte tutuyor\n",
        "n = 30\n",
        "myDynamicArray = []\n",
        "for i in range(n):\n",
        "  myLength = len(myDynamicArray)\n",
        "  myByte = sys.getsizeof(myDynamicArray)\n",
        "  print(f\"Length: {myLength} Byte: {myByte}\")\n",
        "  myDynamicArray.append(n)"
      ],
      "metadata": {
        "colab": {
          "base_uri": "https://localhost:8080/"
        },
        "id": "rJRXLy3Xme2t",
        "outputId": "11525d73-0575-4030-f560-ba8bc3946f30"
      },
      "execution_count": 8,
      "outputs": [
        {
          "output_type": "stream",
          "name": "stdout",
          "text": [
            "Length: 0 Byte: 72\n",
            "Length: 1 Byte: 104\n",
            "Length: 2 Byte: 104\n",
            "Length: 3 Byte: 104\n",
            "Length: 4 Byte: 104\n",
            "Length: 5 Byte: 136\n",
            "Length: 6 Byte: 136\n",
            "Length: 7 Byte: 136\n",
            "Length: 8 Byte: 136\n",
            "Length: 9 Byte: 200\n",
            "Length: 10 Byte: 200\n",
            "Length: 11 Byte: 200\n",
            "Length: 12 Byte: 200\n",
            "Length: 13 Byte: 200\n",
            "Length: 14 Byte: 200\n",
            "Length: 15 Byte: 200\n",
            "Length: 16 Byte: 200\n",
            "Length: 17 Byte: 272\n",
            "Length: 18 Byte: 272\n",
            "Length: 19 Byte: 272\n",
            "Length: 20 Byte: 272\n",
            "Length: 21 Byte: 272\n",
            "Length: 22 Byte: 272\n",
            "Length: 23 Byte: 272\n",
            "Length: 24 Byte: 272\n",
            "Length: 25 Byte: 272\n",
            "Length: 26 Byte: 352\n",
            "Length: 27 Byte: 352\n",
            "Length: 28 Byte: 352\n",
            "Length: 29 Byte: 352\n"
          ]
        }
      ]
    }
  ]
}