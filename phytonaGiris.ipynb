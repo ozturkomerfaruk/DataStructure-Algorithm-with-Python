{
  "nbformat": 4,
  "nbformat_minor": 0,
  "metadata": {
    "colab": {
      "name": "phytonaGiris.ipynb",
      "provenance": []
    },
    "kernelspec": {
      "name": "python3",
      "display_name": "Python 3"
    },
    "language_info": {
      "name": "python"
    },
    "gpuClass": "standard"
  },
  "cells": [
    {
      "cell_type": "markdown",
      "source": [
        "# Phython Giriş"
      ],
      "metadata": {
        "id": "Wa60QMqZTmnn"
      }
    },
    {
      "cell_type": "code",
      "source": [
        "x = 5\n",
        "type(x)"
      ],
      "metadata": {
        "id": "JZEK2UsFUrdK"
      },
      "execution_count": null,
      "outputs": []
    },
    {
      "cell_type": "code",
      "source": [
        "str = \"Ömer Faruk Öztürk\"\n",
        "print(str*2)\n",
        "print(len(str))\n",
        "print(str[-2])\n",
        "str[3:] #starting index\n",
        "str[:3] #stopping index\n",
        "str[3:10] #birlikte\n",
        "str[::3] #stepping size\n",
        "str[::-1] #ters"
      ],
      "metadata": {
        "colab": {
          "base_uri": "https://localhost:8080/",
          "height": 88
        },
        "id": "-PCmuc2XTq_l",
        "outputId": "227eccdc-0407-49d1-ef85-2b6827446bec"
      },
      "execution_count": null,
      "outputs": [
        {
          "output_type": "stream",
          "name": "stdout",
          "text": [
            "Ömer Faruk ÖztürkÖmer Faruk Öztürk\n",
            "17\n",
            "r\n"
          ]
        },
        {
          "output_type": "execute_result",
          "data": {
            "text/plain": [
              "'krützÖ kuraF remÖ'"
            ],
            "application/vnd.google.colaboratory.intrinsic+json": {
              "type": "string"
            }
          },
          "metadata": {},
          "execution_count": 18
        }
      ]
    },
    {
      "cell_type": "code",
      "source": [
        "mylist = [1,2, 3.3, 4.4, \"5\", False]\n",
        "nestedList = [1,2, [3,4], [5,6,[7,8,9,0], 4], 5,3]"
      ],
      "metadata": {
        "id": "Cnt_CnNMYC0A"
      },
      "execution_count": null,
      "outputs": []
    },
    {
      "cell_type": "code",
      "source": [
        "myDict = {'item': 'keys', \"item2\": \"key2\", \"item3\": \"key3\", \"item4\": \"key4\", \"item5\": \"key5\"}\n",
        "myDict.get('omer', 500) #yoksa 500 döndür."
      ],
      "metadata": {
        "colab": {
          "base_uri": "https://localhost:8080/"
        },
        "id": "g4BniMyGZhtX",
        "outputId": "3593cb56-b30a-4c6f-f3f6-0bce3ad766f0"
      },
      "execution_count": null,
      "outputs": [
        {
          "output_type": "execute_result",
          "data": {
            "text/plain": [
              "500"
            ]
          },
          "metadata": {},
          "execution_count": 11
        }
      ]
    },
    {
      "cell_type": "code",
      "source": [
        "mySet = {1,1,1,1,1,2}\n",
        "print(mySet)\n",
        "myTuple = (1,2,3,4,1,2,3,5)\n",
        "print(myTuple)\n",
        "print(myTuple.count(5))\n",
        "#Tuple Unpacking\n",
        "(x,y) = (4,5)\n",
        "print(x)\n",
        "print(y)\n",
        "(x,y) = (y,x)\n",
        "print(x)\n",
        "print(y)"
      ],
      "metadata": {
        "colab": {
          "base_uri": "https://localhost:8080/"
        },
        "id": "5hC_pfMKaBv0",
        "outputId": "0c7ec354-475f-4d8e-d806-0ab9d7cbcd38"
      },
      "execution_count": null,
      "outputs": [
        {
          "output_type": "stream",
          "name": "stdout",
          "text": [
            "{1, 2}\n",
            "(1, 2, 3, 4, 1, 2, 3, 5)\n",
            "1\n",
            "4\n",
            "5\n",
            "5\n",
            "4\n"
          ]
        }
      ]
    },
    {
      "cell_type": "code",
      "source": [
        "userage = input(\"Enter age: \")\n",
        "print(type(userage))\n",
        "print(int(userage) + 5)"
      ],
      "metadata": {
        "colab": {
          "base_uri": "https://localhost:8080/"
        },
        "id": "jZVCDtHOcqyQ",
        "outputId": "6d672de5-8b15-4e6a-c5af-06414808ea99"
      },
      "execution_count": null,
      "outputs": [
        {
          "output_type": "stream",
          "name": "stdout",
          "text": [
            "Enter age: 35\n",
            "<class 'str'>\n",
            "40\n"
          ]
        }
      ]
    },
    {
      "cell_type": "code",
      "source": [
        "#Error Handling\n",
        "try:\n",
        "  int(\"Ömer\")\n",
        "except:\n",
        "  print(\"int'e dönüştürülemez.\")"
      ],
      "metadata": {
        "colab": {
          "base_uri": "https://localhost:8080/"
        },
        "id": "qL9GXOerd9sp",
        "outputId": "22d59429-1810-4c67-f677-65e72dc7e81f"
      },
      "execution_count": null,
      "outputs": [
        {
          "output_type": "stream",
          "name": "stdout",
          "text": [
            "int'e dönüştürülemez.\n"
          ]
        }
      ]
    },
    {
      "cell_type": "code",
      "source": [
        "print(4>3)\n",
        "print(5<3)\n",
        "\n",
        "x = 40\n",
        "\n",
        "if x > 20 and x <= 30:\n",
        "  print(x, \"=> 20-30\")\n",
        "elif x > 30 and x <= 40:\n",
        "  print(x, \"=> 30-40\")\n",
        "else:\n",
        "  print(f\"{x} => dışında\") #formatted String"
      ],
      "metadata": {
        "colab": {
          "base_uri": "https://localhost:8080/"
        },
        "id": "Ni2U_zY0e2zq",
        "outputId": "b2c914df-3f03-477a-f43f-c823f6105ca5"
      },
      "execution_count": null,
      "outputs": [
        {
          "output_type": "stream",
          "name": "stdout",
          "text": [
            "True\n",
            "False\n",
            "40 => 30-40\n"
          ]
        }
      ]
    },
    {
      "cell_type": "code",
      "source": [
        "myList = [1,2,3,4,5,6,7]\n",
        "for number in myList:\n",
        "  print(number / 2 * 3)\n",
        "print(\"Loop Ended\")"
      ],
      "metadata": {
        "colab": {
          "base_uri": "https://localhost:8080/"
        },
        "id": "jgwYbB8GgNP-",
        "outputId": "87f3f6c3-c569-4d90-d5ae-171bc8d38bda"
      },
      "execution_count": null,
      "outputs": [
        {
          "output_type": "stream",
          "name": "stdout",
          "text": [
            "1.5\n",
            "3.0\n",
            "4.5\n",
            "6.0\n",
            "7.5\n",
            "9.0\n",
            "10.5\n",
            "Loop Ended\n"
          ]
        }
      ]
    },
    {
      "cell_type": "code",
      "source": [
        "40 in myList"
      ],
      "metadata": {
        "colab": {
          "base_uri": "https://localhost:8080/"
        },
        "id": "ij7y1HcSgYmf",
        "outputId": "68601bbb-c10f-49a2-e685-d6adede9b7de"
      },
      "execution_count": null,
      "outputs": [
        {
          "output_type": "execute_result",
          "data": {
            "text/plain": [
              "False"
            ]
          },
          "metadata": {},
          "execution_count": 42
        }
      ]
    },
    {
      "cell_type": "code",
      "source": [
        "\"a\" in \"metallica\""
      ],
      "metadata": {
        "colab": {
          "base_uri": "https://localhost:8080/"
        },
        "id": "qXxFQmzYga6z",
        "outputId": "de7178a0-e513-4e8c-bc0b-95cddc27abf5"
      },
      "execution_count": null,
      "outputs": [
        {
          "output_type": "execute_result",
          "data": {
            "text/plain": [
              "True"
            ]
          },
          "metadata": {},
          "execution_count": 43
        }
      ]
    },
    {
      "cell_type": "code",
      "source": [
        "i = 0\n",
        "while i < 10:\n",
        "  print(i)\n",
        "  i += 1"
      ],
      "metadata": {
        "colab": {
          "base_uri": "https://localhost:8080/"
        },
        "id": "mDC14tSLgcjR",
        "outputId": "1975f33c-c16f-434c-ce86-bfc5cab87102"
      },
      "execution_count": null,
      "outputs": [
        {
          "output_type": "stream",
          "name": "stdout",
          "text": [
            "0\n",
            "1\n",
            "2\n",
            "3\n",
            "4\n",
            "5\n",
            "6\n",
            "7\n",
            "8\n",
            "9\n"
          ]
        }
      ]
    },
    {
      "cell_type": "code",
      "source": [
        "list(range(10,30))"
      ],
      "metadata": {
        "id": "ApLpjHZNgqiP",
        "colab": {
          "base_uri": "https://localhost:8080/"
        },
        "outputId": "5cce49e0-ffc6-4f15-f776-94ea2b86979e"
      },
      "execution_count": 2,
      "outputs": [
        {
          "output_type": "execute_result",
          "data": {
            "text/plain": [
              "[10,\n",
              " 11,\n",
              " 12,\n",
              " 13,\n",
              " 14,\n",
              " 15,\n",
              " 16,\n",
              " 17,\n",
              " 18,\n",
              " 19,\n",
              " 20,\n",
              " 21,\n",
              " 22,\n",
              " 23,\n",
              " 24,\n",
              " 25,\n",
              " 26,\n",
              " 27,\n",
              " 28,\n",
              " 29]"
            ]
          },
          "metadata": {},
          "execution_count": 2
        }
      ]
    },
    {
      "cell_type": "code",
      "source": [
        "myList = [\"a\", \"b\", \"c\", \"d\", \"e\"]\n",
        "for letter in myList:\n",
        "  print(letter)\n",
        "print(\"***********************\")\n",
        "for letter in range(0, len(myList), 2):\n",
        "  print(letter)"
      ],
      "metadata": {
        "colab": {
          "base_uri": "https://localhost:8080/"
        },
        "id": "E6QzLaKX46vq",
        "outputId": "3a8240e4-eaa0-4ce1-fb76-f7d400dff495"
      },
      "execution_count": 6,
      "outputs": [
        {
          "output_type": "stream",
          "name": "stdout",
          "text": [
            "a\n",
            "b\n",
            "c\n",
            "d\n",
            "e\n",
            "***********************\n",
            "0\n",
            "2\n",
            "4\n"
          ]
        }
      ]
    },
    {
      "cell_type": "code",
      "source": [
        "elements = [5,6,7,8,9,10,11,12,13,14,15]\n",
        "for element in enumerate(elements):\n",
        "  print(element)"
      ],
      "metadata": {
        "colab": {
          "base_uri": "https://localhost:8080/"
        },
        "id": "R-iP0ij85ySw",
        "outputId": "caac0baf-4cec-4f92-aae9-f226c2beca27"
      },
      "execution_count": 7,
      "outputs": [
        {
          "output_type": "stream",
          "name": "stdout",
          "text": [
            "(0, 5)\n",
            "(1, 6)\n",
            "(2, 7)\n",
            "(3, 8)\n",
            "(4, 9)\n",
            "(5, 10)\n",
            "(6, 11)\n",
            "(7, 12)\n",
            "(8, 13)\n",
            "(9, 14)\n",
            "(10, 15)\n"
          ]
        }
      ]
    },
    {
      "cell_type": "code",
      "source": [
        "for(index, number) in enumerate(elements):\n",
        "  print(f\"index: {index} number: {number}\")"
      ],
      "metadata": {
        "colab": {
          "base_uri": "https://localhost:8080/"
        },
        "id": "ztnJcKpE6CpT",
        "outputId": "fb4a67c4-224e-4ba6-d221-5f05c71b71d8"
      },
      "execution_count": 8,
      "outputs": [
        {
          "output_type": "stream",
          "name": "stdout",
          "text": [
            "index: 0 number: 5\n",
            "index: 1 number: 6\n",
            "index: 2 number: 7\n",
            "index: 3 number: 8\n",
            "index: 4 number: 9\n",
            "index: 5 number: 10\n",
            "index: 6 number: 11\n",
            "index: 7 number: 12\n",
            "index: 8 number: 13\n",
            "index: 9 number: 14\n",
            "index: 10 number: 15\n"
          ]
        }
      ]
    },
    {
      "cell_type": "code",
      "source": [
        "newList = []\n",
        "str = \"Ömer Faruk Öztürk\"\n",
        "for item in str:\n",
        "  newList.append(item)\n",
        "\n",
        "newList\n",
        "\n",
        "#Kısa Yolu: newList = [element for element in str]"
      ],
      "metadata": {
        "colab": {
          "base_uri": "https://localhost:8080/"
        },
        "id": "8WNGp8Qj6aj8",
        "outputId": "d688666a-332b-476a-9c77-931ba257a860"
      },
      "execution_count": 9,
      "outputs": [
        {
          "output_type": "execute_result",
          "data": {
            "text/plain": [
              "['Ö',\n",
              " 'm',\n",
              " 'e',\n",
              " 'r',\n",
              " ' ',\n",
              " 'F',\n",
              " 'a',\n",
              " 'r',\n",
              " 'u',\n",
              " 'k',\n",
              " ' ',\n",
              " 'Ö',\n",
              " 'z',\n",
              " 't',\n",
              " 'ü',\n",
              " 'r',\n",
              " 'k']"
            ]
          },
          "metadata": {},
          "execution_count": 9
        }
      ]
    },
    {
      "cell_type": "code",
      "source": [
        "def sumFunc(num1 = 5, num2 = 1):\n",
        "  print(num1 + num2)\n",
        "\n",
        "aaa = sumFunc(5,15)\n",
        "default = sumFunc()"
      ],
      "metadata": {
        "colab": {
          "base_uri": "https://localhost:8080/"
        },
        "id": "UBNWZf4Q69Oz",
        "outputId": "5174c8df-bee4-4d5f-e6ae-695a787de11e"
      },
      "execution_count": 20,
      "outputs": [
        {
          "output_type": "stream",
          "name": "stdout",
          "text": [
            "20\n",
            "6\n"
          ]
        }
      ]
    },
    {
      "cell_type": "code",
      "source": [
        "type(aaa)\n",
        "\n",
        "if aaa:\n",
        "  print(aaa)\n",
        "else:\n",
        "  print(\"is None\")"
      ],
      "metadata": {
        "colab": {
          "base_uri": "https://localhost:8080/"
        },
        "id": "b_0zbRJC7uP8",
        "outputId": "ceca489c-50f7-4e33-91db-080744f4c0d1"
      },
      "execution_count": 17,
      "outputs": [
        {
          "output_type": "stream",
          "name": "stdout",
          "text": [
            "is None\n"
          ]
        }
      ]
    },
    {
      "cell_type": "code",
      "source": [
        "def returnSumFunc(num1, num2):\n",
        "  return num1+num2\n",
        "\n",
        "aab = returnSumFunc(5,15)"
      ],
      "metadata": {
        "id": "wdewsTO58p3L"
      },
      "execution_count": 18,
      "outputs": []
    },
    {
      "cell_type": "code",
      "source": [
        "type(aab)\n",
        "\n",
        "if aab:\n",
        "  print(aab)\n",
        "else:\n",
        "  print(\"is None\")"
      ],
      "metadata": {
        "colab": {
          "base_uri": "https://localhost:8080/"
        },
        "id": "D7jvsAaP8y7e",
        "outputId": "423e4e75-b598-4e19-e462-0ea730781ed1"
      },
      "execution_count": 19,
      "outputs": [
        {
          "output_type": "stream",
          "name": "stdout",
          "text": [
            "20\n"
          ]
        }
      ]
    },
    {
      "cell_type": "markdown",
      "source": [
        "Object Oriented"
      ],
      "metadata": {
        "id": "wcq1I6TN9Kqx"
      }
    },
    {
      "cell_type": "code",
      "source": [
        "class Musician():\n",
        "  job = \"Musician\"\n",
        "\n",
        "  def __init__(self, name, age, instrument):\n",
        "    self.name = name\n",
        "    self.age = age\n",
        "    self.instrument = instrument\n",
        "\n",
        "  def sing(self):\n",
        "    print(\"sing, sing\")\n",
        "  \n",
        "  def __len__(self):\n",
        "    return print(self.age)\n",
        "\n",
        "  def __str__(self):\n",
        "    return print(self.name)"
      ],
      "metadata": {
        "id": "XzyM1mKz9KMj"
      },
      "execution_count": 47,
      "outputs": []
    },
    {
      "cell_type": "code",
      "source": [
        "omer = Musician(\"Ömer\", 15, \"Ney\")\n",
        "print(omer.instrument, omer.age, omer.job)\n",
        "omer.sing()\n",
        "#print(len(omer))"
      ],
      "metadata": {
        "colab": {
          "base_uri": "https://localhost:8080/"
        },
        "id": "3H5cMML1-Wig",
        "outputId": "f2dd3688-7f0e-465c-dfda-8f98b4205eb2"
      },
      "execution_count": 51,
      "outputs": [
        {
          "output_type": "stream",
          "name": "stdout",
          "text": [
            "Ney 15 Musician\n",
            "sing, sing\n"
          ]
        }
      ]
    },
    {
      "cell_type": "code",
      "source": [
        "class Class1():\n",
        "  def __init__(self):\n",
        "    print(\"class 1 created\")\n",
        "  def method1(self):\n",
        "    print(\"method 1\")\n",
        "  def method(self):\n",
        "    print(\"method 2\")\n"
      ],
      "metadata": {
        "id": "6Q44GC6kAi4z"
      },
      "execution_count": 52,
      "outputs": []
    },
    {
      "cell_type": "code",
      "source": [
        "class1Instance = Class1()"
      ],
      "metadata": {
        "colab": {
          "base_uri": "https://localhost:8080/"
        },
        "id": "ga8nslI2A0DL",
        "outputId": "94e014f7-ebd2-4991-9c0d-8d4a6d019580"
      },
      "execution_count": 53,
      "outputs": [
        {
          "output_type": "stream",
          "name": "stdout",
          "text": [
            "class 1 created\n"
          ]
        }
      ]
    },
    {
      "cell_type": "code",
      "source": [
        "class Class2(Class1):\n",
        "  def __init__(self):\n",
        "    Class1.__init__(self)\n",
        "    print(\"class 2 created, || KALITIM\")"
      ],
      "metadata": {
        "id": "J34CjGV9A5_X"
      },
      "execution_count": 56,
      "outputs": []
    },
    {
      "cell_type": "code",
      "source": [
        "class2Instance = Class2()"
      ],
      "metadata": {
        "colab": {
          "base_uri": "https://localhost:8080/"
        },
        "id": "Uni8zR8nBDzr",
        "outputId": "d57068bc-ffe9-4417-94a6-0325d9d1a6a4"
      },
      "execution_count": 57,
      "outputs": [
        {
          "output_type": "stream",
          "name": "stdout",
          "text": [
            "class 1 created\n",
            "class 2 created, || KALITIM\n"
          ]
        }
      ]
    },
    {
      "cell_type": "code",
      "source": [
        "class Apple():\n",
        "\n",
        "  def __init__(self, name):\n",
        "    self.name = name\n",
        "  \n",
        "  def information(self):\n",
        "    return self.name + \" 100 Calories\""
      ],
      "metadata": {
        "id": "oanDqK9MBNTe"
      },
      "execution_count": 2,
      "outputs": []
    },
    {
      "cell_type": "code",
      "source": [
        "class Banana():\n",
        "\n",
        "  def __init__(self, name):\n",
        "    self.name = name\n",
        "  \n",
        "  def information(self):\n",
        "    return self.name + \" 200 Calories\""
      ],
      "metadata": {
        "id": "pCF56h4nBdez"
      },
      "execution_count": 3,
      "outputs": []
    },
    {
      "cell_type": "code",
      "source": [
        "banana = Banana(\"banana\")\n",
        "apple = Apple(\"apple\")\n",
        "\n",
        "fruitList = [banana, apple]\n",
        "\n",
        "for fruit in fruitList:\n",
        "  print(fruit.information())"
      ],
      "metadata": {
        "colab": {
          "base_uri": "https://localhost:8080/"
        },
        "id": "za8Dwum3BiS1",
        "outputId": "886c7d26-98bb-4036-8a72-01f4db7ce39a"
      },
      "execution_count": 4,
      "outputs": [
        {
          "output_type": "stream",
          "name": "stdout",
          "text": [
            "banana 200 Calories\n",
            "apple 100 Calories\n"
          ]
        }
      ]
    },
    {
      "cell_type": "code",
      "source": [
        ""
      ],
      "metadata": {
        "id": "eu2FDhDvcOfp"
      },
      "execution_count": null,
      "outputs": []
    }
  ]
}