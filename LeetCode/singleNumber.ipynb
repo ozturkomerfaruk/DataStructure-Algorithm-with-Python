{
  "nbformat": 4,
  "nbformat_minor": 0,
  "metadata": {
    "colab": {
      "name": "Untitled0.ipynb",
      "provenance": []
    },
    "kernelspec": {
      "name": "python3",
      "display_name": "Python 3"
    },
    "language_info": {
      "name": "python"
    }
  },
  "cells": [
    {
      "cell_type": "markdown",
      "source": [
        "Start the question by considering Edge Cases.\n",
        "\n",
        "This means, for example, if there is only one element in a List, \n",
        "return it directly"
      ],
      "metadata": {
        "id": "X7-gzBee5fI3"
      }
    },
    {
      "cell_type": "markdown",
      "source": [
        "This linear Runtime so this must be O(n) and \n",
        "\n",
        "Only canstant extra space so this must be O(1)"
      ],
      "metadata": {
        "id": "1l5rifp25sFm"
      }
    },
    {
      "cell_type": "code",
      "execution_count": 29,
      "metadata": {
        "id": "8_oWiXGKkQU4"
      },
      "outputs": [],
      "source": [
        "def singleNumber(nums):\n",
        "  if(len(nums) == 1):\n",
        "    return nums[0]\n",
        "  else:\n",
        "    result = 0\n",
        "    for num in nums:\n",
        "      result = num ^ result\n",
        "    return result\n"
      ]
    },
    {
      "cell_type": "code",
      "source": [
        "nums = [3,3,4,4,5,7,8,8,7]\n",
        "\n",
        "print(singleNumber(nums))"
      ],
      "metadata": {
        "colab": {
          "base_uri": "https://localhost:8080/"
        },
        "id": "9M0Xu6Cn6MOL",
        "outputId": "8d97065a-60eb-4134-f88a-0af0e4041082"
      },
      "execution_count": 30,
      "outputs": [
        {
          "output_type": "stream",
          "name": "stdout",
          "text": [
            "5\n"
          ]
        }
      ]
    },
    {
      "cell_type": "markdown",
      "source": [
        "We have to use **Bit Manipulation** for bigO\n",
        "\n",
        "Very easy to use"
      ],
      "metadata": {
        "id": "Y9epoQng2nfp"
      }
    }
  ]
}