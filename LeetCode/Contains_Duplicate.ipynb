{
  "nbformat": 4,
  "nbformat_minor": 0,
  "metadata": {
    "colab": {
      "name": "Contains Duplicate.ipynb",
      "provenance": []
    },
    "kernelspec": {
      "name": "python3",
      "display_name": "Python 3"
    },
    "language_info": {
      "name": "python"
    }
  },
  "cells": [
    {
      "cell_type": "markdown",
      "source": [
        "#**Contains Duplicate**"
      ],
      "metadata": {
        "id": "PAMgYgDo1sCU"
      }
    },
    {
      "cell_type": "code",
      "source": [
        "myList = [1,2,3,4,1]"
      ],
      "metadata": {
        "id": "MsU1RFdH4ub0"
      },
      "execution_count": 32,
      "outputs": []
    },
    {
      "cell_type": "code",
      "source": [
        "def solution():\n",
        "  hashSet = set()\n",
        "  for num in myList:\n",
        "    if num in hashSet:\n",
        "      return True\n",
        "    hashSet.add(num)\n",
        "  return False"
      ],
      "metadata": {
        "id": "l6OWHvXL38pZ"
      },
      "execution_count": 33,
      "outputs": []
    },
    {
      "cell_type": "code",
      "execution_count": 34,
      "metadata": {
        "colab": {
          "base_uri": "https://localhost:8080/"
        },
        "id": "0AeeaRYXnvHx",
        "outputId": "0d50ec15-4070-4481-ec60-30fd4c747460"
      },
      "outputs": [
        {
          "output_type": "execute_result",
          "data": {
            "text/plain": [
              "True"
            ]
          },
          "metadata": {},
          "execution_count": 34
        }
      ],
      "source": [
        "solution()"
      ]
    },
    {
      "cell_type": "code",
      "source": [
        "def solution2():\n",
        "  return len(myList) != len(set(myList))"
      ],
      "metadata": {
        "id": "k0LoY_jm4n9y"
      },
      "execution_count": 35,
      "outputs": []
    },
    {
      "cell_type": "code",
      "source": [
        "solution2()"
      ],
      "metadata": {
        "colab": {
          "base_uri": "https://localhost:8080/"
        },
        "id": "G80k7nCa44Fc",
        "outputId": "b79d3d77-3b5d-4ef8-c0b0-998a70bebc63"
      },
      "execution_count": 36,
      "outputs": [
        {
          "output_type": "execute_result",
          "data": {
            "text/plain": [
              "True"
            ]
          },
          "metadata": {},
          "execution_count": 36
        }
      ]
    }
  ]
}